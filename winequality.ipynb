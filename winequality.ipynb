{
  "nbformat": 4,
  "nbformat_minor": 0,
  "metadata": {
    "colab": {
      "private_outputs": true,
      "provenance": []
    },
    "kernelspec": {
      "name": "python3",
      "display_name": "Python 3"
    },
    "language_info": {
      "name": "python"
    }
  },
  "cells": [
    {
      "cell_type": "code",
      "source": [
        "import numpy as np\n",
        "import matplotlib.pyplot as plt\n",
        "import pandas as pd\n",
        "import seaborn as sns\n",
        "\n",
        "from warnings import filterwarnings\n",
        "filterwarnings(action='ignore')"
      ],
      "metadata": {
        "id": "Eg8IRJFam8qh"
      },
      "execution_count": null,
      "outputs": []
    },
    {
      "cell_type": "code",
      "source": [
        "wine = pd.read_csv(\"winequality-red.csv\")\n",
        "print(\"Successfully Imported Data!\")\n",
        "wine.head()"
      ],
      "metadata": {
        "id": "d4Cce6ZTm-2G"
      },
      "execution_count": null,
      "outputs": []
    },
    {
      "cell_type": "code",
      "source": [
        "print(wine.shape)"
      ],
      "metadata": {
        "id": "iSqNf9HwnHgB"
      },
      "execution_count": null,
      "outputs": []
    },
    {
      "cell_type": "code",
      "source": [
        "wine.describe(include='all')"
      ],
      "metadata": {
        "id": "-jEKIx1vnX8d"
      },
      "execution_count": null,
      "outputs": []
    },
    {
      "cell_type": "code",
      "source": [
        "print(wine.isna().sum())"
      ],
      "metadata": {
        "id": "L3QnoUyFndRR"
      },
      "execution_count": null,
      "outputs": []
    },
    {
      "cell_type": "code",
      "source": [
        "wine.corr()"
      ],
      "metadata": {
        "id": "6Gmvmu5wnhEw"
      },
      "execution_count": null,
      "outputs": []
    },
    {
      "cell_type": "code",
      "source": [
        "wine.groupby('quality').mean()"
      ],
      "metadata": {
        "id": "0PWHS0ACnlW-"
      },
      "execution_count": null,
      "outputs": []
    },
    {
      "cell_type": "code",
      "source": [
        "sns.countplot(wine['quality'])\n",
        "plt.show()"
      ],
      "metadata": {
        "id": "cHs5k-_lnolO"
      },
      "execution_count": null,
      "outputs": []
    },
    {
      "cell_type": "code",
      "source": [
        "sns.countplot(wine['fixed acidity'])\n",
        "plt.show()"
      ],
      "metadata": {
        "id": "qLzZk5X1n498"
      },
      "execution_count": null,
      "outputs": []
    },
    {
      "cell_type": "code",
      "source": [
        "sns.kdeplot(wine.query('quality > 2').quality)"
      ],
      "metadata": {
        "id": "S3XBK5Dqn6oM"
      },
      "execution_count": null,
      "outputs": []
    },
    {
      "cell_type": "code",
      "source": [
        "sns.distplot(wine['alcohol'])"
      ],
      "metadata": {
        "id": "zpEykIZ9oEbj"
      },
      "execution_count": null,
      "outputs": []
    },
    {
      "cell_type": "code",
      "source": [
        "wine.plot(kind ='box',subplots = True, layout =(4,4),sharex = False)"
      ],
      "metadata": {
        "id": "fcXBnk7NoJK7"
      },
      "execution_count": null,
      "outputs": []
    },
    {
      "cell_type": "code",
      "source": [
        "wine.plot(kind ='density',subplots = True, layout =(4,4),sharex = False)"
      ],
      "metadata": {
        "id": "oCXnCh9xoNH7"
      },
      "execution_count": null,
      "outputs": []
    },
    {
      "cell_type": "code",
      "source": [
        "wine.hist(figsize=(10,10),bins=50)\n",
        "plt.show()"
      ],
      "metadata": {
        "id": "30xOn8HZoRnC"
      },
      "execution_count": null,
      "outputs": []
    },
    {
      "cell_type": "code",
      "source": [
        "corr = wine.corr()\n",
        "sns.heatmap(corr,annot=True)"
      ],
      "metadata": {
        "id": "sfIIevWooV5h"
      },
      "execution_count": null,
      "outputs": []
    },
    {
      "cell_type": "code",
      "source": [
        "sns.pairplot(wine)"
      ],
      "metadata": {
        "id": "YIoxqDW_oabY"
      },
      "execution_count": null,
      "outputs": []
    },
    {
      "cell_type": "code",
      "source": [
        "sns.violinplot(x='quality', y='alcohol', data=wine)"
      ],
      "metadata": {
        "id": "SJ3LtE-Kojau"
      },
      "execution_count": null,
      "outputs": []
    },
    {
      "cell_type": "code",
      "source": [
        "wine['goodquality'] = [1 if x >= 7 else 0 for x in wine['quality']]# Separate feature variables and target variable\n",
        "X = wine.drop(['quality','goodquality'], axis = 1)\n",
        "Y = wine['goodquality']"
      ],
      "metadata": {
        "id": "9rntLGCXolwr"
      },
      "execution_count": null,
      "outputs": []
    },
    {
      "cell_type": "code",
      "source": [
        "wine['goodquality'].value_counts()"
      ],
      "metadata": {
        "id": "fdTH79msosOc"
      },
      "execution_count": null,
      "outputs": []
    },
    {
      "cell_type": "code",
      "source": [
        "X"
      ],
      "metadata": {
        "id": "JPnq9uWNo2gU"
      },
      "execution_count": null,
      "outputs": []
    },
    {
      "cell_type": "code",
      "source": [
        "print(Y)"
      ],
      "metadata": {
        "id": "BXBR8QiIo6Vl"
      },
      "execution_count": null,
      "outputs": []
    },
    {
      "cell_type": "code",
      "source": [
        "from sklearn.linear_model import LogisticRegression\n",
        "model = LogisticRegression()\n",
        "\n",
        "from sklearn.ensemble import ExtraTreesClassifier\n",
        "classifiern = ExtraTreesClassifier()\n",
        "classifiern.fit(X,Y)\n",
        "score = classifiern.feature_importances_\n",
        "print(score)"
      ],
      "metadata": {
        "id": "oPRM59Yyo-IK"
      },
      "execution_count": null,
      "outputs": []
    },
    {
      "cell_type": "code",
      "source": [
        "from sklearn.model_selection import train_test_split\n",
        "X_train, X_test, Y_train, Y_test = train_test_split(X,Y,test_size=0.3,random_state=7)"
      ],
      "metadata": {
        "id": "fBapSKgxpB7h"
      },
      "execution_count": null,
      "outputs": []
    },
    {
      "cell_type": "code",
      "source": [
        "from sklearn.linear_model import LogisticRegression\n",
        "model = LogisticRegression()\n",
        "model.fit(X_train,Y_train)\n",
        "Y_pred = model.predict(X_test)\n",
        "\n",
        "from sklearn.metrics import accuracy_score,confusion_matrix\n",
        "print(\"Accuracy Score:\",accuracy_score(Y_test,Y_pred))"
      ],
      "metadata": {
        "id": "pxpHquCopF8j"
      },
      "execution_count": null,
      "outputs": []
    },
    {
      "cell_type": "code",
      "source": [
        "confusion_mat = confusion_matrix(Y_test,Y_pred)\n",
        "print(confusion_mat)"
      ],
      "metadata": {
        "id": "n3aEylA2pK-r"
      },
      "execution_count": null,
      "outputs": []
    },
    {
      "cell_type": "code",
      "source": [
        "from sklearn.neighbors import KNeighborsClassifier\n",
        "model = KNeighborsClassifier(n_neighbors=3)\n",
        "model.fit(X_train,Y_train)\n",
        "y_pred = model.predict(X_test)\n",
        "\n",
        "from sklearn.metrics import accuracy_score\n",
        "print(\"Accuracy Score:\",accuracy_score(Y_test,y_pred))"
      ],
      "metadata": {
        "id": "aO0nSgkYpPRa"
      },
      "execution_count": null,
      "outputs": []
    },
    {
      "cell_type": "code",
      "source": [
        "from sklearn.svm import SVC\n",
        "model = SVC()\n",
        "model.fit(X_train,Y_train)\n",
        "pred_y = model.predict(X_test)\n",
        "\n",
        "from sklearn.metrics import accuracy_score\n",
        "print(\"Accuracy Score:\",accuracy_score(Y_test,pred_y))"
      ],
      "metadata": {
        "id": "oZKyKXSDpTlN"
      },
      "execution_count": null,
      "outputs": []
    },
    {
      "cell_type": "code",
      "source": [
        "from sklearn.tree import DecisionTreeClassifier\n",
        "model = DecisionTreeClassifier(criterion='entropy',random_state=7)\n",
        "model.fit(X_train,Y_train)\n",
        "y_pred = model.predict(X_test)\n",
        "\n",
        "from sklearn.metrics import accuracy_score\n",
        "print(\"Accuracy Score:\",accuracy_score(Y_test,y_pred))"
      ],
      "metadata": {
        "id": "0wskNTt-pW9n"
      },
      "execution_count": null,
      "outputs": []
    },
    {
      "cell_type": "code",
      "source": [
        "from sklearn.naive_bayes import GaussianNB\n",
        "model3 = GaussianNB()\n",
        "model3.fit(X_train,Y_train)\n",
        "y_pred3 = model3.predict(X_test)\n",
        "\n",
        "from sklearn.metrics import accuracy_score\n",
        "print(\"Accuracy Score:\",accuracy_score(Y_test,y_pred3))"
      ],
      "metadata": {
        "id": "FIAJFpm4pc2_"
      },
      "execution_count": null,
      "outputs": []
    },
    {
      "cell_type": "code",
      "source": [
        "from sklearn.ensemble import RandomForestClassifier\n",
        "model2 = RandomForestClassifier(random_state=1)\n",
        "model2.fit(X_train, Y_train)\n",
        "y_pred2 = model2.predict(X_test)\n",
        "\n",
        "from sklearn.metrics import accuracy_score\n",
        "print(\"Accuracy Score:\",accuracy_score(Y_test,y_pred2))"
      ],
      "metadata": {
        "id": "7GyYX0p8pe9E"
      },
      "execution_count": null,
      "outputs": []
    },
    {
      "cell_type": "code",
      "source": [
        "results = pd.DataFrame({\n",
        "    'Model': ['Logistic Regression','KNN', 'SVC','Decision Tree' ,'GaussianNB','Random Forest','Xgboost'],\n",
        "    'Score': [0.870,0.872,0.868,0.864,0.833,0.893,0.879]})\n",
        "\n",
        "result_df = results.sort_values(by='Score', ascending=False)\n",
        "result_df = result_df.set_index('Score')\n",
        "result_df"
      ],
      "metadata": {
        "id": "FHwD9YVWpk6G"
      },
      "execution_count": null,
      "outputs": []
    }
  ]
}